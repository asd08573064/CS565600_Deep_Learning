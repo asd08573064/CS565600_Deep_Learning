{
  "nbformat": 4,
  "nbformat_minor": 0,
  "metadata": {
    "colab": {
      "name": "Lab08_107062132.ipynb",
      "provenance": [],
      "collapsed_sections": []
    },
    "kernelspec": {
      "name": "python3",
      "display_name": "Python 3"
    }
  },
  "cells": [
    {
      "cell_type": "code",
      "metadata": {
        "id": "1nZCDW2P-F7R"
      },
      "source": [
        "import pandas as pd\n",
        "\n",
        "url_1 = 'https://raw.githubusercontent.com/nthu-datalab/ml/master/labs/08_CV_Ensembling/CV_playground_dataset/test.csv'\n",
        "df1 = pd.read_csv(url_1)\n",
        "\n",
        "url_2 = 'https://raw.githubusercontent.com/nthu-datalab/ml/master/labs/08_CV_Ensembling/CV_playground_dataset/train.csv'\n",
        "df2 = pd.read_csv(url_2)\n",
        "\n",
        "url_1 = 'https://raw.githubusercontent.com/nthu-datalab/ml/master/labs/08_CV_Ensembling/CV_playground_dataset/test.csv'\n",
        "df3 = pd.read_csv(url_1)\n",
        "\n",
        "df2[\"Competitor\"].replace({\"Kate\": 0, \"Bob\": 1, \"Mark\":2, \"Sue\":3}, inplace=True)\n",
        "\n",
        "df1 = pd.read_csv(url_1)\n",
        "df1[\"Competitor\"].replace({\"Kate\": 0, \"Bob\": 1, \"Mark\":2, \"Sue\":3}, inplace=True)\n"
      ],
      "execution_count": 29,
      "outputs": []
    },
    {
      "cell_type": "code",
      "metadata": {
        "id": "OSJmwYrD1rvr"
      },
      "source": [
        "import os, itertools, csv\n",
        "\n",
        "from IPython.display import Image\n",
        "from IPython.display import display\n",
        "\n",
        "# numpy  1.17.1\n",
        "import numpy as np\n",
        "\n",
        "# pandas  0.25.1\n",
        "import pandas as pd\n",
        "\n",
        "# scikit-learn  0.21.3\n",
        "from sklearn import datasets\n",
        "from sklearn.svm import SVC\n",
        "load_iris = datasets.load_iris\n",
        "make_moons = datasets.make_moons\n",
        "from sklearn.ensemble import AdaBoostClassifier, BaggingClassifier, VotingClassifier\n",
        "from sklearn.linear_model import LinearRegression, LogisticRegression\n",
        "from sklearn.metrics import accuracy_score, mean_squared_error, roc_curve, auc\n",
        "from sklearn.model_selection import train_test_split, KFold, GridSearchCV, cross_val_score\n",
        "from sklearn.neighbors import KNeighborsClassifier\n",
        "from sklearn.pipeline import Pipeline\n",
        "from sklearn.preprocessing import StandardScaler, PolynomialFeatures\n",
        "from sklearn.tree import DecisionTreeClassifier\n",
        "from sklearn.ensemble import RandomForestClassifier\n",
        "from sklearn.ensemble import AdaBoostClassifier\n",
        "from sklearn.datasets import make_classification\n",
        "\n",
        "# matplotlib  3.1.1\n",
        "import matplotlib.pyplot as plt\n",
        "\n",
        "# load utility classes/functions that has been taught in previous labs\n",
        "# e.g., plot_decision_regions()\n"
      ],
      "execution_count": 30,
      "outputs": []
    },
    {
      "cell_type": "code",
      "metadata": {
        "id": "DDvG8f21-hV0"
      },
      "source": [
        "ohc = pd.get_dummies(df2)\n",
        "y = np.array(ohc[\"Competitor\"])\n",
        "X = np.array(ohc.iloc[:, 0:2])"
      ],
      "execution_count": 31,
      "outputs": []
    },
    {
      "cell_type": "code",
      "metadata": {
        "colab": {
          "base_uri": "https://localhost:8080/",
          "height": 299
        },
        "id": "MoXTnAnRTew0",
        "outputId": "9f2cb00b-ba7d-47be-91b3-8c13345b2947"
      },
      "source": [
        "\n",
        "reader = df3.values.tolist()\n",
        "X = np.ndarray((0, 2))\n",
        "y = np.ndarray((0,))\n",
        "y_mapping = {'Bob': 0, 'Kate': 1, 'Mark': 2, 'Sue': 3}\n",
        "i = 0\n",
        "for row in reader:\n",
        "  i += 1\n",
        "  X = np.vstack((X, np.array(row[0:2])))\n",
        "  y = np.append(y, y_mapping[row[2]])\n",
        "X = X.astype(np.float)\n",
        "y = y.astype(np.float)\n",
        "\n",
        "\n",
        "print('plot testing data: ')\n",
        "\n",
        "plt.scatter(X[y == 0, 0], X[y == 0, 1], label='Bob', c='red', linewidths=0)\n",
        "plt.scatter(\n",
        "    X[y == 1, 0], X[y == 1, 1], label='Kate', c='lightgreen', linewidths=0)\n",
        "plt.scatter(\n",
        "    X[y == 2, 0], X[y == 2, 1], label='Mark', c='lightblue', linewidths=0)\n",
        "plt.scatter(X[y == 3, 0], X[y == 3, 1], label='Sue', c='purple', linewidths=0)"
      ],
      "execution_count": 32,
      "outputs": [
        {
          "output_type": "stream",
          "name": "stdout",
          "text": [
            "plot testing data: \n"
          ]
        },
        {
          "output_type": "execute_result",
          "data": {
            "text/plain": [
              "<matplotlib.collections.PathCollection at 0x7fb92ee80b10>"
            ]
          },
          "metadata": {},
          "execution_count": 32
        },
        {
          "output_type": "display_data",
          "data": {
            "image/png": "[encoded data removed]",
            "text/plain": [
              "<Figure size 432x288 with 1 Axes>"
            ]
          },
          "metadata": {
            "needs_background": "light"
          }
        }
      ]
    },
    {
      "cell_type": "code",
      "metadata": {
        "colab": {
          "base_uri": "https://localhost:8080/"
        },
        "id": "OzkIbIdqSjVf",
        "outputId": "afd8c3af-2913-447f-82cc-a390f30d6bae"
      },
      "source": [
        "outer_cv = KFold(n_splits=5, shuffle=True, random_state=1)\n",
        "inner_cv = KFold(n_splits=10, shuffle=True, random_state=1)\n",
        "\n",
        "clf_tree = RandomForestClassifier(n_estimators=5, random_state=1, max_depth=1)\n",
        "\n",
        "\n",
        "\n",
        "\n",
        "outer_scores = []\n",
        "# outer folds\n",
        "for i, (train_idx, test_idx) in enumerate(outer_cv.split(X, y)):\n",
        "    print('[Outer fold %d/5]' % (i + 1))\n",
        "    X_train, X_test = X[train_idx], X[test_idx]\n",
        "    y_train, y_test = y[train_idx], y[test_idx]\n",
        "    \n",
        "    pipe = Pipeline([['sc', StandardScaler()], ['clf', AdaBoostClassifier(base_estimator=clf_tree)]])\n",
        "    # hyperparameter tuning by grid search CV\n",
        "    param_grid = {\n",
        "                \"clf__base_estimator__max_depth\": [1, 5, 10, 15],\n",
        "                \"clf__n_estimators\": [5, 10, 15, 20]\n",
        "\n",
        "                }\n",
        "    gs = GridSearchCV(estimator=pipe, param_grid=param_grid, \n",
        "                      scoring='accuracy', cv=inner_cv)\n",
        "    gs.fit(X_train, y_train)\n",
        "    best_clf = gs.best_estimator_\n",
        "    best_clf.fit(X_train, y_train)    \n",
        "    outer_scores.append(best_clf.score(X_test, y_test))\n",
        "    print('Test accuracy: %.2f (n_estimators=%d RF max depth=%s selected by inner 10-fold CV)' % \n",
        "                  (outer_scores[i], gs.best_params_['clf__n_estimators'],gs.best_params_['clf__base_estimator__max_depth']))\n",
        "\n",
        "print('\\nTest accuracy: %.2f (5x10 nested CV)' % np.mean(outer_scores))"
      ],
      "execution_count": 33,
      "outputs": [
        {
          "output_type": "stream",
          "name": "stdout",
          "text": [
            "[Outer fold 1/5]\n",
            "Test accuracy: 0.70 (n_estimators=20 RF max depth=15 selected by inner 10-fold CV)\n",
            "[Outer fold 2/5]\n",
            "Test accuracy: 0.73 (n_estimators=10 RF max depth=10 selected by inner 10-fold CV)\n",
            "[Outer fold 3/5]\n",
            "Test accuracy: 0.70 (n_estimators=10 RF max depth=10 selected by inner 10-fold CV)\n",
            "[Outer fold 4/5]\n",
            "Test accuracy: 0.73 (n_estimators=20 RF max depth=10 selected by inner 10-fold CV)\n",
            "[Outer fold 5/5]\n",
            "Test accuracy: 0.54 (n_estimators=15 RF max depth=15 selected by inner 10-fold CV)\n",
            "\n",
            "Test accuracy: 0.68 (5x10 nested CV)\n"
          ]
        }
      ]
    },
    {
      "cell_type": "code",
      "metadata": {
        "colab": {
          "base_uri": "https://localhost:8080/"
        },
        "id": "76_8fIRk4clQ",
        "outputId": "b7e99bd7-d9d0-42ab-b197-5c616480145b"
      },
      "source": [
        "param_C = [0.1, 1.0, 10.0]\n",
        "\n",
        "\n",
        "outer_cv = KFold(n_splits=5, shuffle=True, random_state=1)\n",
        "inner_cv = KFold(n_splits=10, shuffle=True, random_state=1)\n",
        "\n",
        "clf1 = SVC(kernel='rbf', random_state=0, gamma=0.01, C=1000, probability=True)\n",
        "clf2 = RandomForestClassifier(n_estimators=50, random_state=1)\n",
        "clf3 = AdaBoostClassifier(n_estimators=10, random_state=0)\n",
        "\n",
        "\n",
        "outer_scores = []\n",
        "# outer folds\n",
        "for i, (train_idx, test_idx) in enumerate(outer_cv.split(X, y)):\n",
        "    print('[Outer fold %d/5]' % (i + 1))\n",
        "    X_train, X_test = X[train_idx], X[test_idx]\n",
        "    y_train, y_test = y[train_idx], y[test_idx]\n",
        "    \n",
        "    pipe = Pipeline([['sc', StandardScaler()], ['clf', VotingClassifier(estimators=[('svm', clf1), ('rf', clf2), ('ada', clf3)], voting='soft')\n",
        "]])\n",
        "\n",
        "    param_grid = {'clf__svm__C': param_C,\n",
        "                  'clf__rf__max_depth': [5, 10, 15],\n",
        "                  'clf__ada__n_estimators': [5, 10, 15]\n",
        "\n",
        "                  }\n",
        "    gs = GridSearchCV(estimator=pipe, param_grid=param_grid, \n",
        "                      scoring='accuracy', cv=inner_cv)\n",
        "    gs.fit(X_train, y_train)\n",
        "    best_clf = gs.best_estimator_\n",
        "    best_clf.fit(X_train, y_train)    \n",
        "    outer_scores.append(best_clf.score(X_test, y_test))\n",
        "    print('Test accuracy: %.2f (svm C=%d rf max_depth=%d n_estimators=%d selected by inner 10-fold CV)' % \n",
        "                  (outer_scores[i], gs.best_params_['clf__svm__C'],gs.best_params_['clf__rf__max_depth'], gs.best_params_['clf__rf__max_depth']))\n",
        "\n",
        "print('\\nTest accuracy: %.2f (5x10 nested CV)' % np.mean(outer_scores))"
      ],
      "execution_count": null,
      "outputs": [
        {
          "output_type": "stream",
          "name": "stdout",
          "text": [
            "[Outer fold 1/5]\n",
            "Test accuracy: 0.81 (svm C=0 rf max_depth=10 n_estimators=10 selected by inner 10-fold CV)\n",
            "[Outer fold 2/5]\n",
            "Test accuracy: 0.86 (svm C=0 rf max_depth=15 n_estimators=15 selected by inner 10-fold CV)\n",
            "[Outer fold 3/5]\n",
            "Test accuracy: 0.82 (svm C=10 rf max_depth=15 n_estimators=15 selected by inner 10-fold CV)\n",
            "[Outer fold 4/5]\n",
            "Test accuracy: 0.83 (svm C=0 rf max_depth=15 n_estimators=15 selected by inner 10-fold CV)\n",
            "[Outer fold 5/5]\n",
            "Test accuracy: 0.82 (svm C=0 rf max_depth=10 n_estimators=10 selected by inner 10-fold CV)\n",
            "\n",
            "Test accuracy: 0.83 (5x10 nested CV)\n",
            "0.8399851906701221\n",
            "{'clf__ada__n_estimators': 15, 'clf__rf__max_depth': 10, 'clf__svm__C': 10.0}\n"
          ]
        }
      ]
    },
    {
      "cell_type": "code",
      "metadata": {
        "colab": {
          "base_uri": "https://localhost:8080/"
        },
        "id": "bXhHt50KwkUF",
        "outputId": "5568e304-1301-4100-a2d3-52aa0b5db2a7"
      },
      "source": [
        "param_C = [0.1, 1.0, 10.0]\n",
        "\n",
        "\n",
        "outer_cv = KFold(n_splits=5, shuffle=True, random_state=1)\n",
        "inner_cv = KFold(n_splits=10, shuffle=True, random_state=1)\n",
        "\n",
        "outer_scores = []\n",
        "# outer folds\n",
        "for i, (train_idx, test_idx) in enumerate(outer_cv.split(X, y)):\n",
        "    print('[Outer fold %d/5]' % (i + 1))\n",
        "    X_train, X_test = X[train_idx], X[test_idx]\n",
        "    y_train, y_test = y[train_idx], y[test_idx]\n",
        "    \n",
        "    pipe = Pipeline([['sc', StandardScaler()], ['clf', BaggingClassifier(base_estimator=SVC(),n_estimators=10)]])\n",
        "\n",
        "    param_grid = {'clf__base_estimator__C': param_C,\n",
        "                  'clf__n_estimators': [5, 10, 15]\n",
        "\n",
        "                  }\n",
        "    gs = GridSearchCV(estimator=pipe, param_grid=param_grid, \n",
        "                      scoring='accuracy', cv=inner_cv)\n",
        "    gs.fit(X_train, y_train)\n",
        "    best_clf = gs.best_estimator_\n",
        "    best_clf.fit(X_train, y_train)    \n",
        "    outer_scores.append(best_clf.score(X_test, y_test))\n",
        "    print('Test accuracy: %.2f (svm C=%d n_estimators=%d selected by inner 10-fold CV)' % \n",
        "                  (outer_scores[i], gs.best_params_['clf__base_estimator__C'],gs.best_params_['clf__n_estimators']))\n",
        "\n",
        "print('\\nTest accuracy: %.2f (5x10 nested CV)' % np.mean(outer_scores))"
      ],
      "execution_count": null,
      "outputs": [
        {
          "output_type": "stream",
          "name": "stdout",
          "text": [
            "[Outer fold 1/5]\n",
            "Test accuracy: 0.84 (svm C=10 n_estimators=15 selected by inner 10-fold CV)\n",
            "[Outer fold 2/5]\n",
            "Test accuracy: 0.83 (svm C=10 n_estimators=10 selected by inner 10-fold CV)\n",
            "[Outer fold 3/5]\n",
            "Test accuracy: 0.83 (svm C=10 n_estimators=15 selected by inner 10-fold CV)\n",
            "[Outer fold 4/5]\n",
            "Test accuracy: 0.83 (svm C=10 n_estimators=15 selected by inner 10-fold CV)\n",
            "[Outer fold 5/5]\n",
            "Test accuracy: 0.84 (svm C=10 n_estimators=15 selected by inner 10-fold CV)\n",
            "\n",
            "Test accuracy: 0.84 (5x10 nested CV)\n"
          ]
        }
      ]
    },
    {
      "cell_type": "markdown",
      "metadata": {
        "id": "1NEuvdcQo1Na"
      },
      "source": [
        "# Result\n",
        "Bagging classifier has the best accuaray with svc as the basic estimator with parameter svm C=10 and n_estimators=15."
      ]
    }
  ]
}