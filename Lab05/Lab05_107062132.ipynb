{
 "cells": [
  {
   "cell_type": "code",
   "execution_count": 3,
   "id": "43d5eabc",
   "metadata": {},
   "outputs": [],
   "source": [
    "import pandas as pd\n",
    "import numpy as np"
   ]
  },
  {
   "cell_type": "code",
   "execution_count": 4,
   "id": "7bc1f1f1",
   "metadata": {},
   "outputs": [],
   "source": [
    "org_x = pd.read_csv('./X_train.csv')\n",
    "org_y = pd.read_csv('./y_train.csv')\n",
    "\n",
    "X = pd.read_csv('./X_test.csv')"
   ]
  },
  {
   "cell_type": "markdown",
   "id": "0254e3bb",
   "metadata": {},
   "source": [
    "# Data preprocessing\n",
    "I split the data into training:validation = 7:3 and normalize the data"
   ]
  },
  {
   "cell_type": "code",
   "execution_count": 5,
   "id": "53c69d71",
   "metadata": {},
   "outputs": [],
   "source": [
    "from sklearn.linear_model import Ridge\n",
    "from sklearn.metrics import mean_squared_error\n",
    "from sklearn.preprocessing import PolynomialFeatures\n",
    "from sklearn.linear_model import LinearRegression\n",
    "from sklearn.metrics import r2_score\n",
    "from sklearn.linear_model import Lasso\n",
    "from sklearn.linear_model import RidgeClassifier\n",
    "from sklearn.preprocessing import StandardScaler\n",
    "from sklearn.linear_model import Ridge\n",
    "from sklearn.metrics import mean_squared_error\n",
    "from sklearn.model_selection import train_test_split\n",
    "import matplotlib.pyplot as plt\n",
    "\n",
    "sc_x = StandardScaler()\n",
    "sc_x.fit(org_x)\n",
    "X_std = sc_x.fit_transform(org_x)\n",
    "y = org_y['FGM'].values\n",
    "\n",
    "\n",
    "\n",
    "X_train, X_test, Y_train, Y_test = train_test_split(\n",
    "    X_std, y, test_size=0.3, random_state=0)"
   ]
  },
  {
   "cell_type": "markdown",
   "id": "1d21c5e6",
   "metadata": {},
   "source": [
    "### AdaBoost with hyperparamerter tuning\n",
    "The loss fluctuate, yet the model is quiet complex when the number of estimators grows.\n",
    "So I decided not to use AdaBoost."
   ]
  },
  {
   "cell_type": "code",
   "execution_count": 4,
   "id": "07186049",
   "metadata": {},
   "outputs": [
    {
     "name": "stdout",
     "output_type": "stream",
     "text": [
      "\n",
      " [N_est = 100]\n",
      "Error  test: 0.3879, train: 0.3815\n",
      "Accuracy test: 0.6121, train: 0.6185\n",
      "\n",
      " [N_est = 120]\n",
      "Error  test: 0.3875, train: 0.3805\n",
      "Accuracy test: 0.6125, train: 0.6195\n",
      "\n",
      " [N_est = 140]\n",
      "Error  test: 0.3870, train: 0.3800\n",
      "Accuracy test: 0.6130, train: 0.6200\n",
      "\n",
      " [N_est = 160]\n",
      "Error  test: 0.3876, train: 0.3797\n",
      "Accuracy test: 0.6124, train: 0.6203\n",
      "\n",
      " [N_est = 180]\n",
      "Error  test: 0.3874, train: 0.3797\n",
      "Accuracy test: 0.6126, train: 0.6203\n",
      "\n",
      " [N_est = 200]\n",
      "Error  test: 0.3872, train: 0.3796\n",
      "Accuracy test: 0.6128, train: 0.6204\n",
      "\n",
      " [N_est = 220]\n",
      "Error  test: 0.3868, train: 0.3797\n",
      "Accuracy test: 0.6132, train: 0.6203\n",
      "\n",
      " [N_est = 240]\n",
      "Error  test: 0.3875, train: 0.3796\n",
      "Accuracy test: 0.6125, train: 0.6204\n",
      "\n",
      " [N_est = 260]\n",
      "Error  test: 0.3879, train: 0.3793\n",
      "Accuracy test: 0.6121, train: 0.6207\n",
      "\n",
      " [N_est = 280]\n",
      "Error  test: 0.3872, train: 0.3793\n",
      "Accuracy test: 0.6128, train: 0.6207\n",
      "\n",
      " [N_est = 300]\n",
      "Error  test: 0.3870, train: 0.3794\n",
      "Accuracy test: 0.6130, train: 0.6206\n",
      "\n",
      " [N_est = 320]\n",
      "Error  test: 0.3871, train: 0.3795\n",
      "Accuracy test: 0.6129, train: 0.6205\n",
      "\n",
      " [N_est = 340]\n",
      "Error  test: 0.3874, train: 0.3795\n",
      "Accuracy test: 0.6126, train: 0.6205\n",
      "\n",
      " [N_est = 360]\n",
      "Error  test: 0.3874, train: 0.3791\n",
      "Accuracy test: 0.6126, train: 0.6209\n",
      "\n",
      " [N_est = 380]\n",
      "Error  test: 0.3875, train: 0.3788\n",
      "Accuracy test: 0.6125, train: 0.6212\n",
      "\n",
      " [N_est = 400]\n",
      "Error  test: 0.3864, train: 0.3789\n",
      "Accuracy test: 0.6136, train: 0.6211\n",
      "\n",
      " [N_est = 420]\n",
      "Error  test: 0.3868, train: 0.3789\n",
      "Accuracy test: 0.6132, train: 0.6211\n",
      "\n",
      " [N_est = 440]\n",
      "Error  test: 0.3871, train: 0.3789\n",
      "Accuracy test: 0.6129, train: 0.6211\n",
      "\n",
      " [N_est = 460]\n",
      "Error  test: 0.3876, train: 0.3789\n",
      "Accuracy test: 0.6124, train: 0.6211\n",
      "\n",
      " [N_est = 480]\n",
      "Error  test: 0.3874, train: 0.3783\n",
      "Accuracy test: 0.6126, train: 0.6217\n"
     ]
    },
    {
     "data": {
      "image/png": "[encoded data removed]",
      "text/plain": [
       "<Figure size 432x288 with 1 Axes>"
      ]
     },
     "metadata": {
      "needs_background": "light"
     },
     "output_type": "display_data"
    }
   ],
   "source": [
    "from sklearn.ensemble import AdaBoostClassifier\n",
    "from sklearn.datasets import make_classification\n",
    "\n",
    "train_error = []\n",
    "test_error = []\n",
    "\n",
    "e = range(100, 500, 20)\n",
    "\n",
    "for idx, est in enumerate(e): \n",
    "    clf = AdaBoostClassifier(n_estimators=est, random_state=0)\n",
    "    clf.fit(X_train, Y_train)\n",
    "    y_train_pred = clf.predict(X_train)\n",
    "    y_test_pred = clf.predict(X_test)\n",
    "    \n",
    "    train_error.append(mean_squared_error(Y_train, y_train_pred))\n",
    "    test_error.append(mean_squared_error(Y_test, y_test_pred))\n",
    "    print('\\n [N_est = %d]' %est)\n",
    "    print('Error  test: %.4f, train: %.4f'%(test_error[idx], train_error[idx]))\n",
    "    print('Accuracy test: %.4f, train: %.4f'%(clf.score(X_test, Y_test), clf.score(X_train, Y_train)))\n",
    "    \n",
    "plt.plot(e, train_error, label = 'Training error', color = 'blue', linewidth = 2)\n",
    "plt.plot(e, test_error, label = 'Testing error', color = 'red', linewidth = 2)\n",
    "plt.legend(loc='upper right')\n",
    "plt.xlabel('Model Complexity (n_estimators)')\n",
    "plt.ylabel('$MSE$')\n",
    "plt.tight_layout()\n",
    "plt.show()"
   ]
  },
  {
   "cell_type": "markdown",
   "id": "d257e0c0",
   "metadata": {},
   "source": [
    "### RidgeClassifier with hyperparamerter tuning\n",
    "\n",
    "As we can see, the model overfit, and degree=2 will be a good setting"
   ]
  },
  {
   "cell_type": "code",
   "execution_count": 4,
   "id": "47e0488d",
   "metadata": {},
   "outputs": [
    {
     "name": "stdout",
     "output_type": "stream",
     "text": [
      "0.607963348604748\n",
      "\n",
      "[Degree = 1.0000]\n",
      "prediction train: 0.6080, test: 0.6097\n",
      "0.6176926280716368\n",
      "\n",
      "[Degree = 2.0000]\n",
      "prediction train: 0.6177, test: 0.6149\n",
      "0.6188921282798834\n",
      "\n",
      "[Degree = 3.0000]\n",
      "prediction train: 0.6189, test: 0.6137\n",
      "0.6213411078717201\n",
      "\n",
      "[Degree = 4.0000]\n",
      "prediction train: 0.6213, test: 0.6106\n"
     ]
    },
    {
     "name": "stderr",
     "output_type": "stream",
     "text": [
      "/home/haowei/miniconda3/lib/python3.8/site-packages/sklearn/linear_model/_ridge.py:147: LinAlgWarning: Ill-conditioned matrix (rcond=2.07041e-17): result may not be accurate.\n",
      "  return linalg.solve(A, Xy, sym_pos=True,\n"
     ]
    },
    {
     "name": "stdout",
     "output_type": "stream",
     "text": [
      "0.6282382340691378\n",
      "\n",
      "[Degree = 5.0000]\n",
      "prediction train: 0.6282, test: 0.6085\n"
     ]
    },
    {
     "name": "stderr",
     "output_type": "stream",
     "text": [
      "/home/haowei/miniconda3/lib/python3.8/site-packages/sklearn/linear_model/_ridge.py:147: LinAlgWarning: Ill-conditioned matrix (rcond=7.64233e-21): result may not be accurate.\n",
      "  return linalg.solve(A, Xy, sym_pos=True,\n"
     ]
    },
    {
     "name": "stdout",
     "output_type": "stream",
     "text": [
      "0.6389670970428988\n",
      "\n",
      "[Degree = 6.0000]\n",
      "prediction train: 0.6390, test: 0.6009\n"
     ]
    },
    {
     "data": {
      "image/png": "[encoded data removed]",
      "text/plain": [
       "<Figure size 432x288 with 1 Axes>"
      ]
     },
     "metadata": {
      "needs_background": "light"
     },
     "output_type": "display_data"
    }
   ],
   "source": [
    "train_error = []\n",
    "test_error = []\n",
    "\n",
    "MAX_DEGREE = 7\n",
    "\n",
    "for a in range(1, MAX_DEGREE):\n",
    "    poly = PolynomialFeatures(degree=a)\n",
    "    X_poly = poly.fit_transform(X_std)\n",
    "    \n",
    "    x_train, x_valid, y_train, y_valid = train_test_split(\n",
    "        X_poly, y, test_size=0.3, random_state=0)\n",
    "\n",
    "    rg_cl = RidgeClassifier(alpha=0.1).fit(x_train, y_train)\n",
    "    print(rg_cl.score(x_train, y_train) )\n",
    "\n",
    "    y_train_acc = rg_cl.score(x_train, y_train)\n",
    "    y_valid_acc = rg_cl.score(x_valid, y_valid)\n",
    "    \n",
    "    y_train_pred = rg_cl.predict(x_train)\n",
    "    y_valid_pred = rg_cl.predict(x_valid)\n",
    "    \n",
    "    train_error.append(mean_squared_error(y_train, y_train_pred))\n",
    "    test_error.append(mean_squared_error(y_valid, y_valid_pred))\n",
    "    \n",
    "    \n",
    "\n",
    "    print('\\n[Degree = %.4f]' % a )\n",
    "    print('prediction train: %.4f, test: %.4f' % (y_train_acc\n",
    "                   ,\n",
    "                    y_valid_acc))\n",
    "    \n",
    "plt.plot(range(1, MAX_DEGREE), train_error, label = 'Training error', color = 'blue', linewidth = 2)\n",
    "plt.plot(range(1, MAX_DEGREE), test_error, label = 'Testing error', color = 'red', linewidth = 2)\n",
    "plt.legend(loc='upper right')\n",
    "plt.xlabel('Regularization (alpha)')\n",
    "plt.ylabel('$MSE$')\n",
    "plt.tight_layout()\n",
    "plt.show()"
   ]
  },
  {
   "cell_type": "markdown",
   "id": "92311ea9",
   "metadata": {},
   "source": [
    "### Random Forest Classifier with hyperparamerter tuning\n",
    "\n",
    "Random Forest Classifier is the best model with Error on testing: 0.38, training: 0.36 and\n",
    "accuracy on testing: 0.62, training: 0.64\n",
    "Based on the experience below, depth=9 will be suitable for this task.\n",
    "\n",
    "Again, the model slightly overfit when the depth of tree increase."
   ]
  },
  {
   "cell_type": "code",
   "execution_count": 5,
   "id": "fa6d1b57",
   "metadata": {},
   "outputs": [
    {
     "name": "stdout",
     "output_type": "stream",
     "text": [
      "\n",
      " [Depth = 1]\n",
      "Error  test: 0.4148, train: 0.4091\n",
      "Accuracy test: 0.5852, train: 0.5909\n",
      "\n",
      " [Depth = 2]\n",
      "Error  test: 0.3918, train: 0.3850\n",
      "Accuracy test: 0.6082, train: 0.6150\n",
      "\n",
      " [Depth = 3]\n",
      "Error  test: 0.3901, train: 0.3827\n",
      "Accuracy test: 0.6099, train: 0.6173\n",
      "\n",
      " [Depth = 4]\n",
      "Error  test: 0.3893, train: 0.3812\n",
      "Accuracy test: 0.6107, train: 0.6188\n",
      "\n",
      " [Depth = 5]\n",
      "Error  test: 0.3876, train: 0.3799\n",
      "Accuracy test: 0.6124, train: 0.6201\n",
      "\n",
      " [Depth = 6]\n",
      "Error  test: 0.3862, train: 0.3777\n",
      "Accuracy test: 0.6138, train: 0.6223\n",
      "\n",
      " [Depth = 7]\n",
      "Error  test: 0.3868, train: 0.3753\n",
      "Accuracy test: 0.6132, train: 0.6247\n",
      "\n",
      " [Depth = 8]\n",
      "Error  test: 0.3854, train: 0.3701\n",
      "Accuracy test: 0.6146, train: 0.6299\n",
      "\n",
      " [Depth = 9]\n",
      "Error  test: 0.3847, train: 0.3632\n",
      "Accuracy test: 0.6153, train: 0.6368\n",
      "\n",
      " [Depth = 10]\n",
      "Error  test: 0.3860, train: 0.3531\n",
      "Accuracy test: 0.6140, train: 0.6469\n",
      "\n",
      " [Depth = 11]\n",
      "Error  test: 0.3862, train: 0.3381\n",
      "Accuracy test: 0.6138, train: 0.6619\n",
      "\n",
      " [Depth = 12]\n",
      "Error  test: 0.3865, train: 0.3192\n",
      "Accuracy test: 0.6135, train: 0.6808\n",
      "\n",
      " [Depth = 13]\n",
      "Error  test: 0.3874, train: 0.2975\n",
      "Accuracy test: 0.6126, train: 0.7025\n",
      "\n",
      " [Depth = 14]\n",
      "Error  test: 0.3884, train: 0.2693\n",
      "Accuracy test: 0.6116, train: 0.7307\n"
     ]
    },
    {
     "data": {
      "image/png": "[encoded data removed]",
      "text/plain": [
       "<Figure size 432x288 with 1 Axes>"
      ]
     },
     "metadata": {
      "needs_background": "light"
     },
     "output_type": "display_data"
    }
   ],
   "source": [
    "from sklearn.ensemble import RandomForestClassifier\n",
    "from sklearn.datasets import make_classification\n",
    "\n",
    "\n",
    "train_error = []\n",
    "test_error = []\n",
    "\n",
    "for depth in range(1, 15):\n",
    "    clf = RandomForestClassifier(max_depth=depth, random_state=0)\n",
    "    clf.fit(X_train, Y_train)\n",
    "    y_train_pred = clf.predict(X_train)\n",
    "    y_test_pred = clf.predict(X_test)\n",
    "    \n",
    "    train_error.append(mean_squared_error(Y_train, y_train_pred))\n",
    "    test_error.append(mean_squared_error(Y_test, y_test_pred))\n",
    "    print('\\n [Depth = %d]' %depth)\n",
    "    print('Error  test: %.4f, train: %.4f'%(test_error[depth-1], train_error[depth-1]))\n",
    "    print('Accuracy test: %.4f, train: %.4f'%(clf.score(X_test, Y_test), clf.score(X_train, Y_train)))\n",
    "    \n",
    "plt.plot(range(1, 15), train_error, label = 'Training error', color = 'blue', linewidth = 2)\n",
    "plt.plot(range(1, 15), test_error, label = 'Testing error', color = 'red', linewidth = 2)\n",
    "plt.legend(loc='upper right')\n",
    "plt.xlabel('Model Complexity (depth)')\n",
    "plt.ylabel('$MSE$')\n",
    "plt.tight_layout()\n",
    "plt.show()"
   ]
  },
  {
   "cell_type": "markdown",
   "id": "f2f1fe66",
   "metadata": {},
   "source": [
    "# Feature selection\n",
    "\n",
    "I extracted the features by Lasso coeffecients. 'SHOT_CLOCK' 'CLOSE_DEF_DIST' 'SHOT_DIST' will be the top three selected features"
   ]
  },
  {
   "cell_type": "code",
   "execution_count": 6,
   "id": "2629d5bc",
   "metadata": {},
   "outputs": [
    {
     "data": {
      "image/png": "[encoded data removed]",
      "text/plain": [
       "<Figure size 432x288 with 1 Axes>"
      ]
     },
     "metadata": {
      "needs_background": "light"
     },
     "output_type": "display_data"
    },
    {
     "name": "stdout",
     "output_type": "stream",
     "text": [
      "[-0.00000000e+00 -1.35560408e-06  2.72053388e-03 -0.00000000e+00\n",
      " -0.00000000e+00 -9.26921556e-03  0.00000000e+00  2.06340709e-03]\n",
      "Selected attributes: ['SHOT_CLOCK' 'SHOT_DIST' 'CLOSE_DEF_DIST']\n"
     ]
    }
   ],
   "source": [
    "var_num = org_x.shape[1]\n",
    "\n",
    "lr_lasso = Lasso(alpha = 0.1)\n",
    "lr_lasso.fit(org_x, org_y)\n",
    "lr_ridge = Ridge(alpha = 0.1)\n",
    "lr_ridge.fit(org_x, org_y)\n",
    "\n",
    "plt.scatter(range(var_num),lr_lasso.coef_, label = 'LASSO', color = 'blue')\n",
    "plt.scatter(range(var_num),lr_ridge.coef_, label = 'Ridge', color = 'green')\n",
    "plt.hlines(y=0, xmin=0, xmax=var_num-1, color='red', linestyle ='--')\n",
    "plt.xlim(0,12)\n",
    "plt.legend(loc = 'upper right')\n",
    "plt.xlabel('Coefficients index')\n",
    "plt.ylabel('Coefficients')\n",
    "plt.tight_layout()\n",
    "plt.show()\n",
    "\n",
    "epsilon = 1e-4\n",
    "\n",
    "print(lr_lasso.coef_)\n",
    "idxs = np.where(abs(lr_lasso.coef_) > epsilon)\n",
    "\n",
    "print('Selected attributes: {}'.format(org_x.columns.values[idxs]))"
   ]
  },
  {
   "cell_type": "markdown",
   "id": "f05f7770",
   "metadata": {},
   "source": [
    "### Drop the redundant fetures"
   ]
  },
  {
   "cell_type": "code",
   "execution_count": 7,
   "id": "9090c5be",
   "metadata": {},
   "outputs": [],
   "source": [
    "c = org_x[['CLOSE_DEF_DIST', 'SHOT_CLOCK', 'SHOT_DIST']]\n",
    "y = org_y['FGM'].values\n",
    "\n",
    "feat_test = X[['CLOSE_DEF_DIST', 'SHOT_CLOCK', 'SHOT_DIST']]\n",
    "\n",
    "\n",
    "X_train, X_test, y_train, y_test = train_test_split(\n",
    "    c, y, test_size=0.3, random_state=0)"
   ]
  },
  {
   "cell_type": "markdown",
   "id": "ef3a53ef",
   "metadata": {},
   "source": [
    "### Result after dropping features\n",
    "the top accuracy drop slightly"
   ]
  },
  {
   "cell_type": "code",
   "execution_count": 8,
   "id": "762d8cb6",
   "metadata": {},
   "outputs": [
    {
     "name": "stdout",
     "output_type": "stream",
     "text": [
      "Error 0.3884\n",
      "Accuracy 0.6105\n"
     ]
    }
   ],
   "source": [
    "clf = RandomForestClassifier(max_depth=9, random_state=0)\n",
    "clf.fit(X_train, y_train)\n",
    "y_train_pred = clf.predict(X_test)\n",
    "test_error = mean_squared_error(y_test, y_test_pred)\n",
    "print('Error %.4f'%(test_error))\n",
    "print('Accuracy %.4f'%(clf.score(X_test, y_test)))"
   ]
  },
  {
   "cell_type": "markdown",
   "id": "d9bf4ef2",
   "metadata": {},
   "source": [
    "### Output the final prediction"
   ]
  },
  {
   "cell_type": "code",
   "execution_count": 9,
   "id": "6988daba",
   "metadata": {},
   "outputs": [],
   "source": [
    "import csv\n",
    "\n",
    "clf = RandomForestClassifier(max_depth=9, random_state=0)\n",
    "clf.fit(c, y)\n",
    "pred = clf.predict(feat_test)\n",
    "\n",
    "\n",
    "with open('y_pred.csv', 'w', newline='') as csvfile:\n",
    "    writer = csv.writer(csvfile)\n",
    "    writer.writerow(['FGM'])\n",
    "    for i in pred:\n",
    "        writer.writerow([i])"
   ]
  }
 ],
 "metadata": {
  "kernelspec": {
   "display_name": "Python 3.8.5 64-bit ('base': conda)",
   "language": "python",
   "name": "python385jvsc74a57bd0b4e8aad4771377d9f665d2bee3e56dcc73eb21e3cbbe68fc10b2d78319b5084c"
  },
  "language_info": {
   "codemirror_mode": {
    "name": "ipython",
    "version": 3
   },
   "file_extension": ".py",
   "mimetype": "text/x-python",
   "name": "python",
   "nbconvert_exporter": "python",
   "pygments_lexer": "ipython3",
   "version": "3.8.5"
  }
 },
 "nbformat": 4,
 "nbformat_minor": 5
}
