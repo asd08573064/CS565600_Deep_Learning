{
 "cells": [
  {
   "cell_type": "code",
   "execution_count": null,
   "metadata": {
    "colab": {
     "base_uri": "https://localhost:8080/",
     "height": 34
    },
    "id": "ZYDt73t3icv9",
    "outputId": "734404e5-cba3-472a-d971-8c3da7f883c1"
   },
   "outputs": [
    {
     "name": "stdout",
     "output_type": "stream",
     "text": [
      "Mounted at /content/gdrive\n"
     ]
    }
   ],
   "source": [
    "import pandas as pd\n",
    "import numpy as np\n",
    "from google.colab import drive\n",
    "# 連接雲端硬碟\n",
    "drive.mount('/content/gdrive')\n"
   ]
  },
  {
   "cell_type": "code",
   "execution_count": null,
   "metadata": {
    "colab": {
     "base_uri": "https://localhost:8080/",
     "height": 101
    },
    "id": "J6xisTSEqTSV",
    "outputId": "5e984720-4540-4556-efbe-9ced69ab0ce1"
   },
   "outputs": [
    {
     "name": "stdout",
     "output_type": "stream",
     "text": [
      "(85751, 8)\n",
      "Index(['PERIOD', 'GAME_CLOCK', 'SHOT_CLOCK', 'DRIBBLES', 'TOUCH_TIME',\n",
      "       'SHOT_DIST', 'PTS_TYPE', 'CLOSE_DEF_DIST'],\n",
      "      dtype='object')\n",
      "Index(['FGM'], dtype='object')\n"
     ]
    }
   ],
   "source": [
    "# 透過 gdrive/My Drive/... 來存取檔案\n",
    "X_train = pd.read_csv('gdrive/My Drive/data/X_train.csv')\n",
    "y = pd.read_csv('gdrive/My Drive/data/y_train.csv')\n",
    "X_test = pd.read_csv('gdrive/My Drive/data/X_test.csv')\n",
    "print(X_train.shape)\n",
    "print(X_train.columns)\n",
    "print(y.columns)"
   ]
  },
  {
   "cell_type": "code",
   "execution_count": null,
   "metadata": {
    "id": "DGm7AyYVxWNs"
   },
   "outputs": [],
   "source": [
    "from sklearn.preprocessing import StandardScaler\n",
    "from sklearn.linear_model import Ridge\n",
    "from sklearn.linear_model import RidgeClassifier\n",
    "from sklearn.model_selection import train_test_split\n",
    "from sklearn.preprocessing import PolynomialFeatures\n",
    "from sklearn.linear_model import LinearRegression\n",
    "from sklearn.metrics import r2_score\n",
    "from sklearn.metrics import mean_squared_error\n",
    "from sklearn.metrics import accuracy_score\n",
    "from sklearn.linear_model import RANSACRegressor\n",
    "from sklearn.ensemble import RandomForestClassifier\n",
    "import matplotlib.pyplot as plt\n",
    "from sklearn.linear_model import Lasso"
   ]
  },
  {
   "cell_type": "markdown",
   "metadata": {
    "id": "LfkadS3GRNWv"
   },
   "source": [
    "## Preprocess\n",
    "  - Standarize X data\n",
    "  - turn y_train into np array\n",
    "  "
   ]
  },
  {
   "cell_type": "code",
   "execution_count": null,
   "metadata": {
    "id": "qJSK88EkQZmQ"
   },
   "outputs": [],
   "source": [
    "sc = StandardScaler()\n",
    "sc.fit(X_train)\n",
    "X_std = sc.transform(X_train)\n",
    "y = np.array(y)\n",
    "y = y.reshape(y.shape[0])"
   ]
  },
  {
   "cell_type": "markdown",
   "metadata": {
    "id": "wj01WRDcu4ag"
   },
   "source": [
    "## RandomForest\n",
    "  - I tried with different hyper-parameter. ex. n_estimators, max_depth, and the best accuracy was 0.61.\n",
    "  - I also used importances vector to select dominant features. Althogh the  two most dominant features are \"SHOT_DIST\" and \"PTS_TYPE\", I think \"SHOT_DIST\" actually contains the imformation of \"PTS_TYPE since three-pointers are always longer than two-pointers in distance. So I finally choose \"SHOT_DIST\", \"CLOSE_DEF_DISTANCE\" and \"SHOT_CLOCK\" as my top-3 features.  "
   ]
  },
  {
   "cell_type": "code",
   "execution_count": null,
   "metadata": {
    "colab": {
     "base_uri": "https://localhost:8080/",
     "height": 168
    },
    "id": "Q-QwiM1Eo57b",
    "outputId": "b01cce53-a058-4c64-962b-37a665351a05"
   },
   "outputs": [
    {
     "name": "stdout",
     "output_type": "stream",
     "text": [
      "accuracy train: 0.621, valid: 0.612\n",
      " 1) SHOT_DIST                      0.492873\n",
      " 2) PTS_TYPE                       0.122547\n",
      " 3) CLOSE_DEF_DIST                 0.120860\n",
      " 4) SHOT_CLOCK                     0.113474\n",
      " 5) TOUCH_TIME                     0.098850\n",
      " 6) DRIBBLES                       0.033844\n",
      " 7) GAME_CLOCK                     0.012410\n",
      " 8) PERIOD                         0.005141\n"
     ]
    }
   ],
   "source": [
    "\n",
    "x_train, x_valid, y_train, y_valid = train_test_split(\n",
    "        X_train, y, test_size=0.3, random_state=0)\n",
    "\n",
    "\n",
    "forest = RandomForestClassifier(criterion='entropy', n_estimators=200, random_state=1, n_jobs=2, max_depth=5)\n",
    "forest.fit(x_train, y_train)\n",
    "y_train_pred = forest.predict(x_train)\n",
    "y_valid_pred = forest.predict(x_valid)\n",
    "print('accuracy train: %.3f, valid: %.3f' % (\n",
    "                accuracy_score(y_train, y_train_pred),\n",
    "                accuracy_score(y_valid, y_valid_pred)))\n",
    "importances = forest.feature_importances_\n",
    "# get sort indices in descending order\n",
    "indices = np.argsort(importances)[::-1]\n",
    "\n",
    "for f in range(X_train.shape[1]):\n",
    "    print(\"%2d) %-*s %f\" % (f + 1, 30, X_train.columns.values[indices[f]], importances[indices[f]]))"
   ]
  },
  {
   "cell_type": "markdown",
   "metadata": {
    "id": "CenUqSkDa1nN"
   },
   "source": [
    "## LASSO\n",
    "  - I also use LASSO model to do feature selection, and the result are consistent with the above result."
   ]
  },
  {
   "cell_type": "code",
   "execution_count": null,
   "metadata": {
    "colab": {
     "base_uri": "https://localhost:8080/",
     "height": 314
    },
    "id": "sBfn2HWdawgk",
    "outputId": "fcd99870-b765-474d-c955-a853432fe424"
   },
   "outputs": [
    {
     "data": {
      "image/png": "[encoded data removed]",
      "text/plain": [
       "<Figure size 432x288 with 1 Axes>"
      ]
     },
     "metadata": {
      "needs_background": "light",
      "tags": []
     },
     "output_type": "display_data"
    },
    {
     "name": "stdout",
     "output_type": "stream",
     "text": [
      "Selected attributes: ['SHOT_CLOCK' 'SHOT_DIST' 'CLOSE_DEF_DIST']\n"
     ]
    }
   ],
   "source": [
    "var_num = X_train.shape[1]\n",
    "\n",
    "lr_lasso = Lasso(alpha = 0.1)\n",
    "lr_lasso.fit(X_train, y)\n",
    "\n",
    "plt.scatter(range(var_num),lr_lasso.coef_, label = 'LASSO', color = 'blue')\n",
    "plt.hlines(y=0, xmin=0, xmax=var_num-1, color='red', linestyle ='--')\n",
    "plt.xlim(0,8)\n",
    "plt.legend(loc = 'upper right')\n",
    "plt.xlabel('Coefficients index')\n",
    "plt.ylabel('Coefficients')\n",
    "plt.tight_layout()\n",
    "plt.show()\n",
    "\n",
    "epsilon = 1e-4\n",
    "idxs = np.where(abs(lr_lasso.coef_) > epsilon)\n",
    "print('Selected attributes: {}'.format(X_train.columns.values[idxs]))"
   ]
  },
  {
   "cell_type": "markdown",
   "metadata": {
    "id": "GqXbAx1occaE"
   },
   "source": [
    "## RidgeClassifier\n",
    "  - This model is better than RandomForest. Althogh the best accuracy is also 0.61, it is simpler than RandomForest. So it is the best model by Occam's razor.\n",
    "  - By plotting the error curve of this model, I choose degree 2 since the error of validation set is the lowest. We can see with degree larger than 2, the model start to overfit on trianing set data.\n",
    "  - I also tried to use Ransac to detect outliers, but it seems useless to improving classification accuracy. So I decide not to include it in my best model.\n"
   ]
  },
  {
   "cell_type": "code",
   "execution_count": null,
   "metadata": {
    "colab": {
     "base_uri": "https://localhost:8080/",
     "height": 532
    },
    "id": "bZqfmq4A_1wN",
    "outputId": "1e6c5b16-2e7d-4336-ebc8-8a93a0a4dc40"
   },
   "outputs": [
    {
     "name": "stdout",
     "output_type": "stream",
     "text": [
      "[Degree = 1]\n",
      "accuracy train: 0.608, valid: 0.610\n",
      "[Degree = 2]\n",
      "accuracy train: 0.618, valid: 0.615\n",
      "[Degree = 3]\n",
      "accuracy train: 0.619, valid: 0.614\n",
      "[Degree = 4]\n",
      "accuracy train: 0.621, valid: 0.611\n",
      "[Degree = 5]\n",
      "accuracy train: 0.628, valid: 0.608\n"
     ]
    },
    {
     "name": "stderr",
     "output_type": "stream",
     "text": [
      "/usr/local/lib/python3.6/dist-packages/sklearn/linear_model/_ridge.py:148: LinAlgWarning: Ill-conditioned matrix (rcond=9.10826e-20): result may not be accurate.\n",
      "  overwrite_a=True).T\n"
     ]
    },
    {
     "name": "stdout",
     "output_type": "stream",
     "text": [
      "[Degree = 6]\n",
      "accuracy train: 0.639, valid: 0.601\n"
     ]
    },
    {
     "data": {
      "image/png": "[encoded data removed]",
      "text/plain": [
       "<Figure size 432x288 with 1 Axes>"
      ]
     },
     "metadata": {
      "needs_background": "light",
      "tags": []
     },
     "output_type": "display_data"
    }
   ],
   "source": [
    "mse_train = []\n",
    "mse_test = []\n",
    "max_degree = 7\n",
    "for d in range(1, max_degree):\n",
    "    poly = PolynomialFeatures(degree=d)\n",
    "    X_poly = poly.fit_transform(X_std)\n",
    "    \n",
    "    x_train, x_valid, y_train, y_valid = train_test_split(\n",
    "        X_poly, y, test_size=0.3, random_state=0)\n",
    "\n",
    "    rg = RidgeClassifier(alpha=1.0)\n",
    "    rg.fit(x_train, y_train)\n",
    "    \n",
    "    y_train_pred = rg.predict(x_train)\n",
    "    y_valid_pred = rg.predict(x_valid)\n",
    "    \n",
    "    print('[Degree = %d]' % d)\n",
    "    print('accuracy train: %.3f, valid: %.3f' % (\n",
    "                    accuracy_score(y_train, y_train_pred),\n",
    "                    accuracy_score(y_valid, y_valid_pred)))\n",
    "    mse_train.append(mean_squared_error(y_train, y_train_pred))\n",
    "    mse_test.append(mean_squared_error(y_valid, y_valid_pred))\n",
    "    \n",
    "\n",
    "plt.plot(range(1, max_degree), mse_train, label = 'Training error', color = 'blue', linewidth = 2)\n",
    "plt.plot(range(1, max_degree), mse_test, label = 'Testing error', color = 'red', linewidth = 2)\n",
    "plt.legend(loc='upper right')\n",
    "plt.xlabel('Model complexity (polynomial degree)')\n",
    "plt.ylabel('$MSE$')\n",
    "plt.tight_layout()\n",
    "plt.show()"
   ]
  },
  {
   "cell_type": "markdown",
   "metadata": {
    "id": "SmIBUMusgT2k"
   },
   "source": [
    "## TOP-3 features\n",
    "  - Using my best model with only TOP-3 features.\n",
    "  - We can see that the accuracy is only slightly worse than using all features. "
   ]
  },
  {
   "cell_type": "code",
   "execution_count": null,
   "metadata": {
    "colab": {
     "base_uri": "https://localhost:8080/",
     "height": 34
    },
    "id": "qxAV9Ij3fNT8",
    "outputId": "6e983182-061e-4c33-f846-f56af15d035a"
   },
   "outputs": [
    {
     "name": "stdout",
     "output_type": "stream",
     "text": [
      "accuracy train: 0.614, valid: 0.612\n"
     ]
    }
   ],
   "source": [
    "X_train_3 = X_train[['CLOSE_DEF_DIST', 'SHOT_CLOCK', 'SHOT_DIST']]\n",
    "sc.fit(X_train_3)\n",
    "X_std_3 = sc.transform(X_train_3)\n",
    "\n",
    "poly = PolynomialFeatures(degree=2)\n",
    "X_poly = poly.fit_transform(X_std_3)\n",
    "\n",
    "x_train, x_valid, y_train, y_valid = train_test_split(\n",
    "    X_poly, y, test_size=0.3, random_state=0)\n",
    "\n",
    "\n",
    "rg = RidgeClassifier(alpha=1.0)\n",
    "rg.fit(x_train, y_train)\n",
    "\n",
    "y_train_pred = rg.predict(x_train)\n",
    "y_valid_pred = rg.predict(x_valid)\n",
    "\n",
    "print('accuracy train: %.3f, valid: %.3f' % (\n",
    "                accuracy_score(y_train, y_train_pred),\n",
    "                accuracy_score(y_valid, y_valid_pred)))"
   ]
  },
  {
   "cell_type": "markdown",
   "metadata": {
    "id": "vPnZyDa3FbFE"
   },
   "source": [
    "## Output\n",
    "  - using the whole X_train, y_train as training set.\n",
    "  - output y_pred.csv."
   ]
  },
  {
   "cell_type": "code",
   "execution_count": null,
   "metadata": {
    "id": "FaNIWEFYEw2V"
   },
   "outputs": [],
   "source": [
    "sc.fit(X_train)\n",
    "X_std = sc.transform(X_train)\n",
    "X_test_std = sc.transform(X_test)\n",
    "\n",
    "poly = PolynomialFeatures(degree=2)\n",
    "X_poly = poly.fit_transform(X_std)\n",
    "X_test_poly = poly.fit_transform(X_test_std)\n",
    "\n",
    "rg = RidgeClassifier(alpha=1.0)\n",
    "rg.fit(X_poly, y)\n",
    "\n",
    "y_test_pred = rg.predict(X_test_poly)\n",
    "df = pd.DataFrame(y_test_pred, columns=['FGM'])\n",
    "df.to_csv(r'gdrive/My Drive/data/y_pred.csv', index = False, header=True)"
   ]
  }
 ],
 "metadata": {
  "colab": {
   "collapsed_sections": [],
   "name": "「Lab05_106062116.ipynb」的副本",
   "provenance": [],
   "toc_visible": true
  },
  "kernelspec": {
   "display_name": "Python 3",
   "name": "python3"
  }
 },
 "nbformat": 4,
 "nbformat_minor": 0
}
