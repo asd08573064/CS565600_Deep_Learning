{
 "cells": [
  {
   "cell_type": "code",
   "execution_count": 57,
   "id": "43d5eabc",
   "metadata": {},
   "outputs": [],
   "source": [
    "import pandas as pd\n",
    "import numpy as np"
   ]
  },
  {
   "cell_type": "code",
   "execution_count": 58,
   "id": "7bc1f1f1",
   "metadata": {},
   "outputs": [],
   "source": [
    "X_train = pd.read_csv('./X_train.csv')\n",
    "y_train = pd.read_csv('./y_train.csv')\n",
    "\n",
    "X = pd.read_csv('./X_test.csv')"
   ]
  },
  {
   "cell_type": "code",
   "execution_count": 59,
   "id": "8e3f67fc",
   "metadata": {},
   "outputs": [
    {
     "name": "stdout",
     "output_type": "stream",
     "text": [
      "(85751, 8)\n",
      "Index(['PERIOD', 'GAME_CLOCK', 'SHOT_CLOCK', 'DRIBBLES', 'TOUCH_TIME',\n",
      "       'SHOT_DIST', 'PTS_TYPE', 'CLOSE_DEF_DIST'],\n",
      "      dtype='object')\n",
      "Index(['FGM'], dtype='object')\n"
     ]
    }
   ],
   "source": [
    "print(X_train.shape)\n",
    "print(X_train.columns)\n",
    "print(y_train.columns)\n",
    "\n",
    "org_y = y_train\n",
    "org_x = X_train\n",
    "Feat_Set_test = X\n",
    "df = X_train"
   ]
  },
  {
   "cell_type": "code",
   "execution_count": 60,
   "id": "53c69d71",
   "metadata": {},
   "outputs": [],
   "source": [
    "from sklearn.linear_model import Ridge\n",
    "from sklearn.metrics import mean_squared_error\n",
    "from sklearn.preprocessing import PolynomialFeatures\n",
    "from sklearn.linear_model import LinearRegression\n",
    "from sklearn.metrics import r2_score\n",
    "from sklearn.linear_model import Lasso\n",
    "from sklearn.linear_model import RidgeClassifier\n",
    "from sklearn.preprocessing import StandardScaler\n",
    "from sklearn.linear_model import Ridge\n",
    "from sklearn.metrics import mean_squared_error\n",
    "from sklearn.model_selection import train_test_split\n",
    "import matplotlib.pyplot as plt\n",
    "\n",
    "sc_x = StandardScaler()\n",
    "sc_x.fit(X_train)\n",
    "X_std = sc_x.fit_transform(X_train)\n",
    "y = y_train['FGM'].values\n",
    "\n",
    "\n",
    "X_train, X_test, Y_train, Y_test = train_test_split(\n",
    "    X_std, y, test_size=0.3, random_state=0)"
   ]
  },
  {
   "cell_type": "markdown",
   "id": "1d21c5e6",
   "metadata": {},
   "source": [
    "### AdaBoost with hyperparamerter tuning"
   ]
  },
  {
   "cell_type": "code",
   "execution_count": 31,
   "id": "07186049",
   "metadata": {},
   "outputs": [
    {
     "name": "stdout",
     "output_type": "stream",
     "text": [
      "\n",
      " [N_est = 10]\n",
      "Error  test: 0.3924, train: 0.3881\n",
      "Accuracy test: 0.6076, train: 0.6119\n",
      "\n",
      " [N_est = 30]\n",
      "Error  test: 0.3908, train: 0.3855\n",
      "Accuracy test: 0.6092, train: 0.6145\n",
      "\n",
      " [N_est = 50]\n",
      "Error  test: 0.3901, train: 0.3842\n",
      "Accuracy test: 0.6099, train: 0.6158\n",
      "\n",
      " [N_est = 70]\n",
      "Error  test: 0.3886, train: 0.3821\n",
      "Accuracy test: 0.6114, train: 0.6179\n",
      "\n",
      " [N_est = 90]\n",
      "Error  test: 0.3881, train: 0.3816\n",
      "Accuracy test: 0.6119, train: 0.6184\n",
      "\n",
      " [N_est = 110]\n",
      "Error  test: 0.3883, train: 0.3808\n",
      "Accuracy test: 0.6117, train: 0.6192\n",
      "\n",
      " [N_est = 130]\n",
      "Error  test: 0.3881, train: 0.3806\n",
      "Accuracy test: 0.6119, train: 0.6194\n",
      "\n",
      " [N_est = 150]\n",
      "Error  test: 0.3874, train: 0.3799\n",
      "Accuracy test: 0.6126, train: 0.6201\n",
      "\n",
      " [N_est = 170]\n",
      "Error  test: 0.3877, train: 0.3797\n",
      "Accuracy test: 0.6123, train: 0.6203\n",
      "\n",
      " [N_est = 190]\n",
      "Error  test: 0.3874, train: 0.3795\n",
      "Accuracy test: 0.6126, train: 0.6205\n"
     ]
    },
    {
     "data": {
      "image/png": "[encoded data removed]",
      "text/plain": [
       "<Figure size 432x288 with 1 Axes>"
      ]
     },
     "metadata": {
      "needs_background": "light"
     },
     "output_type": "display_data"
    }
   ],
   "source": [
    "from sklearn.ensemble import AdaBoostClassifier\n",
    "from sklearn.datasets import make_classification\n",
    "\n",
    "train_error = []\n",
    "test_error = []\n",
    "\n",
    "e = range(10, 200, 20)\n",
    "\n",
    "for idx, est in enumerate(e):\n",
    "    \n",
    "    \n",
    "    \n",
    "    \n",
    "    clf = AdaBoostClassifier(n_estimators=est, random_state=0)\n",
    "    clf.fit(X_train, Y_train)\n",
    "    y_train_pred = clf.predict(X_train)\n",
    "    y_test_pred = clf.predict(X_test)\n",
    "    \n",
    "    train_error.append(mean_squared_error(Y_train, y_train_pred))\n",
    "    test_error.append(mean_squared_error(Y_test, y_test_pred))\n",
    "    print('\\n [N_est = %d]' %est)\n",
    "    print('Error  test: %.4f, train: %.4f'%(test_error[idx], train_error[idx]))\n",
    "    print('Accuracy test: %.4f, train: %.4f'%(clf.score(X_test, Y_test), clf.score(X_train, Y_train)))\n",
    "    \n",
    "plt.plot(e, train_error, label = 'Training error', color = 'blue', linewidth = 2)\n",
    "plt.plot(e, test_error, label = 'Testing error', color = 'red', linewidth = 2)\n",
    "plt.legend(loc='upper right')\n",
    "plt.xlabel('Model Complexity (n_estimators)')\n",
    "plt.ylabel('$MSE$')\n",
    "plt.tight_layout()\n",
    "plt.show()"
   ]
  },
  {
   "cell_type": "markdown",
   "id": "d257e0c0",
   "metadata": {},
   "source": [
    "### RidgeClassifier with hyperparamerter tuning"
   ]
  },
  {
   "cell_type": "code",
   "execution_count": 6,
   "id": "47e0488d",
   "metadata": {},
   "outputs": [
    {
     "name": "stdout",
     "output_type": "stream",
     "text": [
      "0.607963348604748\n",
      "\n",
      "[Degree = 1.0000]\n",
      "prediction train: 0.6080, test: 0.6097\n",
      "0.6176926280716368\n",
      "\n",
      "[Degree = 2.0000]\n",
      "prediction train: 0.6177, test: 0.6149\n",
      "0.6188921282798834\n",
      "\n",
      "[Degree = 3.0000]\n",
      "prediction train: 0.6189, test: 0.6137\n",
      "0.6213411078717201\n",
      "\n",
      "[Degree = 4.0000]\n",
      "prediction train: 0.6213, test: 0.6106\n"
     ]
    },
    {
     "name": "stderr",
     "output_type": "stream",
     "text": [
      "/home/haowei/miniconda3/lib/python3.8/site-packages/sklearn/linear_model/_ridge.py:147: LinAlgWarning: Ill-conditioned matrix (rcond=2.07041e-17): result may not be accurate.\n",
      "  return linalg.solve(A, Xy, sym_pos=True,\n"
     ]
    },
    {
     "name": "stdout",
     "output_type": "stream",
     "text": [
      "0.6282382340691378\n",
      "\n",
      "[Degree = 5.0000]\n",
      "prediction train: 0.6282, test: 0.6085\n"
     ]
    },
    {
     "data": {
      "image/png": "[encoded data removed]",
      "text/plain": [
       "<Figure size 432x288 with 1 Axes>"
      ]
     },
     "metadata": {
      "needs_background": "light"
     },
     "output_type": "display_data"
    }
   ],
   "source": [
    "train_error = []\n",
    "test_error = []\n",
    "\n",
    "\n",
    "for a in range(1, 6):\n",
    "    poly = PolynomialFeatures(degree=a)\n",
    "    X_poly = poly.fit_transform(X_std)\n",
    "    \n",
    "    x_train, x_valid, y_train, y_valid = train_test_split(\n",
    "        X_poly, y, test_size=0.3, random_state=0)\n",
    "\n",
    "    rg_cl = RidgeClassifier(alpha=0.1).fit(x_train, y_train)\n",
    "    print(rg_cl.score(x_train, y_train) )\n",
    "\n",
    "    y_train_acc = rg_cl.score(x_train, y_train)\n",
    "    y_test_acc = rg_cl.score(x_valid, y_valid)\n",
    "    \n",
    "    y_train_pred = rg_cl.predict(x_train)\n",
    "    y_test_pred = rg_cl.predict(x_valid)\n",
    "    \n",
    "    train_error.append(mean_squared_error(y_train, y_train_pred))\n",
    "    test_error.append(mean_squared_error(y_valid, y_test_pred))\n",
    "    \n",
    "    \n",
    "\n",
    "    print('\\n[Degree = %.4f]' % a )\n",
    "    print('prediction train: %.4f, test: %.4f' % (y_train_acc\n",
    "                   ,\n",
    "                    y_test_acc))\n",
    "    \n",
    "plt.plot(range(1, 6), train_error, label = 'Training error', color = 'blue', linewidth = 2)\n",
    "plt.plot(range(1, 6), test_error, label = 'Testing error', color = 'red', linewidth = 2)\n",
    "plt.legend(loc='upper right')\n",
    "plt.xlabel('Regularization (alpha)')\n",
    "plt.ylabel('$MSE$')\n",
    "plt.tight_layout()\n",
    "plt.show()"
   ]
  },
  {
   "cell_type": "markdown",
   "id": "92311ea9",
   "metadata": {},
   "source": [
    "### Random Forest Classifier with hyperparamerter tuning\n",
    "\n",
    "Random Forest Classifier is the best model with Error on testing: 0.38, training: 0.36 and\n",
    "accuracy on testing: 0.62, training: 0.64"
   ]
  },
  {
   "cell_type": "code",
   "execution_count": 21,
   "id": "fa6d1b57",
   "metadata": {},
   "outputs": [
    {
     "name": "stdout",
     "output_type": "stream",
     "text": [
      "\n",
      " [Depth = 1]\n",
      "Error  test: 0.4148, train: 0.4091\n",
      "Accuracy test: 0.5852, train: 0.5909\n",
      "\n",
      " [Depth = 2]\n",
      "Error  test: 0.3918, train: 0.3850\n",
      "Accuracy test: 0.6082, train: 0.6150\n",
      "\n",
      " [Depth = 3]\n",
      "Error  test: 0.3901, train: 0.3827\n",
      "Accuracy test: 0.6099, train: 0.6173\n",
      "\n",
      " [Depth = 4]\n",
      "Error  test: 0.3893, train: 0.3812\n",
      "Accuracy test: 0.6107, train: 0.6188\n",
      "\n",
      " [Depth = 5]\n",
      "Error  test: 0.3876, train: 0.3799\n",
      "Accuracy test: 0.6124, train: 0.6201\n",
      "\n",
      " [Depth = 6]\n",
      "Error  test: 0.3862, train: 0.3777\n",
      "Accuracy test: 0.6138, train: 0.6223\n",
      "\n",
      " [Depth = 7]\n",
      "Error  test: 0.3868, train: 0.3753\n",
      "Accuracy test: 0.6132, train: 0.6247\n",
      "\n",
      " [Depth = 8]\n",
      "Error  test: 0.3854, train: 0.3701\n",
      "Accuracy test: 0.6146, train: 0.6299\n",
      "\n",
      " [Depth = 9]\n",
      "Error  test: 0.3847, train: 0.3632\n",
      "Accuracy test: 0.6153, train: 0.6368\n",
      "\n",
      " [Depth = 10]\n",
      "Error  test: 0.3860, train: 0.3531\n",
      "Accuracy test: 0.6140, train: 0.6469\n",
      "\n",
      " [Depth = 11]\n",
      "Error  test: 0.3862, train: 0.3381\n",
      "Accuracy test: 0.6138, train: 0.6619\n",
      "\n",
      " [Depth = 12]\n",
      "Error  test: 0.3865, train: 0.3192\n",
      "Accuracy test: 0.6135, train: 0.6808\n",
      "\n",
      " [Depth = 13]\n",
      "Error  test: 0.3874, train: 0.2975\n",
      "Accuracy test: 0.6126, train: 0.7025\n",
      "\n",
      " [Depth = 14]\n",
      "Error  test: 0.3884, train: 0.2693\n",
      "Accuracy test: 0.6116, train: 0.7307\n"
     ]
    },
    {
     "data": {
      "image/png": "[encoded data removed]",
      "text/plain": [
       "<Figure size 432x288 with 1 Axes>"
      ]
     },
     "metadata": {
      "needs_background": "light"
     },
     "output_type": "display_data"
    }
   ],
   "source": [
    "from sklearn.ensemble import RandomForestClassifier\n",
    "from sklearn.datasets import make_classification\n",
    "\n",
    "\n",
    "train_error = []\n",
    "test_error = []\n",
    "\n",
    "for depth in range(1, 15):\n",
    "    clf = RandomForestClassifier(max_depth=depth, random_state=0)\n",
    "    clf.fit(X_train, Y_train)\n",
    "    y_train_pred = clf.predict(X_train)\n",
    "    y_test_pred = clf.predict(X_test)\n",
    "    \n",
    "    train_error.append(mean_squared_error(Y_train, y_train_pred))\n",
    "    test_error.append(mean_squared_error(Y_test, y_test_pred))\n",
    "    print('\\n [Depth = %d]' %depth)\n",
    "    print('Error  test: %.4f, train: %.4f'%(test_error[depth-1], train_error[depth-1]))\n",
    "    print('Accuracy test: %.4f, train: %.4f'%(clf.score(X_test, Y_test), clf.score(X_train, Y_train)))\n",
    "    \n",
    "plt.plot(range(1, 15), train_error, label = 'Training error', color = 'blue', linewidth = 2)\n",
    "plt.plot(range(1, 15), test_error, label = 'Testing error', color = 'red', linewidth = 2)\n",
    "plt.legend(loc='upper right')\n",
    "plt.xlabel('Model Complexity (depth)')\n",
    "plt.ylabel('$MSE$')\n",
    "plt.tight_layout()\n",
    "plt.show()"
   ]
  },
  {
   "cell_type": "markdown",
   "id": "f2f1fe66",
   "metadata": {},
   "source": [
    "# Feature selection\n",
    "\n",
    "I extracted the features by Lasso coeffecients. First, we have to find a suitable alpha for feature selection."
   ]
  },
  {
   "cell_type": "markdown",
   "id": "cfbc6461",
   "metadata": {},
   "source": [
    "### 'SHOT_CLOCK' 'CLOSE_DEF_DIST' 'SHOT_DIST' will be the top three selected features"
   ]
  },
  {
   "cell_type": "code",
   "execution_count": 23,
   "id": "2629d5bc",
   "metadata": {},
   "outputs": [
    {
     "data": {
      "image/png": "[encoded data removed]",
      "text/plain": [
       "<Figure size 432x288 with 1 Axes>"
      ]
     },
     "metadata": {
      "needs_background": "light"
     },
     "output_type": "display_data"
    },
    {
     "name": "stdout",
     "output_type": "stream",
     "text": [
      "[-0.         -0.          0.01809059 -0.         -0.01410962 -0.10165518\n",
      " -0.          0.04175627]\n",
      "Selected attributes: ['SHOT_CLOCK' 'TOUCH_TIME' 'SHOT_DIST' 'CLOSE_DEF_DIST']\n"
     ]
    }
   ],
   "source": [
    "var_num = X_train.shape[1]\n",
    "\n",
    "lr_lasso = Lasso(alpha = 0.01)\n",
    "lr_lasso.fit(X_train, Y_train)\n",
    "lr_ridge = Ridge(alpha = 0.01)\n",
    "lr_ridge.fit(X_train, Y_train)\n",
    "\n",
    "plt.scatter(range(var_num),lr_lasso.coef_, label = 'LASSO', color = 'blue')\n",
    "plt.scatter(range(var_num),lr_ridge.coef_, label = 'Ridge', color = 'green')\n",
    "plt.hlines(y=0, xmin=0, xmax=var_num-1, color='red', linestyle ='--')\n",
    "plt.xlim(0,12)\n",
    "plt.legend(loc = 'upper right')\n",
    "plt.xlabel('Coefficients index')\n",
    "plt.ylabel('Coefficients')\n",
    "plt.tight_layout()\n",
    "plt.show()\n",
    "\n",
    "epsilon = 1e-4\n",
    "\n",
    "print(lr_lasso.coef_)\n",
    "idxs = np.where(abs(lr_lasso.coef_) > epsilon)\n",
    "\n",
    "print('Selected attributes: {}'.format(df.columns.values[idxs]))"
   ]
  },
  {
   "cell_type": "markdown",
   "id": "f05f7770",
   "metadata": {},
   "source": [
    "### Drop the redundant fetures"
   ]
  },
  {
   "cell_type": "code",
   "execution_count": 48,
   "id": "9090c5be",
   "metadata": {},
   "outputs": [],
   "source": [
    "feat = org_x[['CLOSE_DEF_DIST', 'SHOT_CLOCK', 'SHOT_DIST']]\n",
    "y = org_y['FGM'].values\n",
    "\n",
    "feat_test = X[['CLOSE_DEF_DIST', 'SHOT_CLOCK', 'SHOT_DIST']]\n",
    "\n",
    "\n",
    "X_train, X_test, y_train, y_test = train_test_split(\n",
    "    feat, y, test_size=0.3, random_state=0)"
   ]
  },
  {
   "cell_type": "markdown",
   "id": "ef3a53ef",
   "metadata": {},
   "source": [
    "### Result after dropping features\n",
    "the top accuracy drop slightly"
   ]
  },
  {
   "cell_type": "code",
   "execution_count": 51,
   "id": "762d8cb6",
   "metadata": {},
   "outputs": [
    {
     "name": "stdout",
     "output_type": "stream",
     "text": [
      "Error  test: 0.3895, train: 0.3647\n",
      "Accuracy test: 0.6105, train: 0.6353\n"
     ]
    }
   ],
   "source": [
    "clf = RandomForestClassifier(max_depth=9, random_state=0)\n",
    "clf.fit(X_train, y_train)\n",
    "y_train_pred = clf.predict(X_train)\n",
    "y_test_pred = clf.predict(X_test)\n",
    "train_error = mean_squared_error(y_train, y_train_pred)\n",
    "test_error = mean_squared_error(y_test, y_test_pred)\n",
    "print('Error  test: %.4f, train: %.4f'%(test_error, train_error))\n",
    "print('Accuracy test: %.4f, train: %.4f'%(clf.score(X_test, y_test), clf.score(X_train, y_train)))\n",
    "\n",
    "pred = clf.predict(feat_test)"
   ]
  },
  {
   "cell_type": "code",
   "execution_count": 54,
   "id": "0be5aa2f",
   "metadata": {},
   "outputs": [
    {
     "name": "stdout",
     "output_type": "stream",
     "text": [
      "[0 0 1 ... 0 0 0]\n"
     ]
    }
   ],
   "source": [
    "print(pred)"
   ]
  },
  {
   "cell_type": "code",
   "execution_count": 55,
   "id": "6988daba",
   "metadata": {},
   "outputs": [],
   "source": [
    "import csv\n",
    "\n",
    "\n",
    "with open('y_pred.csv', 'w', newline='') as csvfile:\n",
    "    writer = csv.writer(csvfile)\n",
    "    writer.writerow(['FGM'])\n",
    "    for i in pred:\n",
    "        writer.writerow([i])"
   ]
  },
  {
   "cell_type": "code",
   "execution_count": 115,
   "id": "f9f82e2b",
   "metadata": {},
   "outputs": [],
   "source": [
    "feat = org_x[['CLOSE_DEF_DIST', 'SHOT_CLOCK', 'SHOT_DIST']]\n",
    "y = org_y['FGM'].values\n",
    "\n",
    "feat_test = X[['CLOSE_DEF_DIST', 'SHOT_CLOCK', 'SHOT_DIST']]\n",
    "\n",
    "\n",
    "sc = StandardScaler()\n",
    "sc.fit(feat)\n",
    "X_std_3 = sc.transform(feat)\n",
    "\n",
    "\n",
    "sc = StandardScaler()\n",
    "sc.fit(feat_test)\n",
    "X_std_3_test = sc.transform(feat_test)\n",
    "\n",
    "poly = PolynomialFeatures(degree=1)\n",
    "X_poly = poly.fit_transform(X_std_3)\n",
    "X_poly_test = poly.fit_transform(X_std_3_test)\n",
    "\n",
    "\n",
    "rg_cl = RidgeClassifier(alpha=1).fit(X_poly, y)"
   ]
  },
  {
   "cell_type": "code",
   "execution_count": 116,
   "id": "596c24cf",
   "metadata": {},
   "outputs": [],
   "source": [
    "\n",
    "\n",
    "\n",
    "y_test_pred = rg_cl.predict(X_poly_test)"
   ]
  },
  {
   "cell_type": "code",
   "execution_count": 117,
   "id": "d6926622",
   "metadata": {},
   "outputs": [
    {
     "name": "stdout",
     "output_type": "stream",
     "text": [
      "[0 1 1 ... 0 1 1]\n"
     ]
    }
   ],
   "source": [
    "print(y_test)"
   ]
  },
  {
   "cell_type": "code",
   "execution_count": 118,
   "id": "235f17b0",
   "metadata": {},
   "outputs": [],
   "source": [
    "import csv\n",
    "\n",
    "\n",
    "with open('y_pred_r.csv', 'w', newline='') as csvfile:\n",
    "    writer = csv.writer(csvfile)\n",
    "    writer.writerow(['FGM'])\n",
    "    for i in pred:\n",
    "        writer.writerow([i])"
   ]
  },
  {
   "cell_type": "code",
   "execution_count": null,
   "id": "fde16893",
   "metadata": {},
   "outputs": [],
   "source": []
  }
 ],
 "metadata": {
  "kernelspec": {
   "display_name": "Python 3.8.5 64-bit ('base': conda)",
   "language": "python",
   "name": "python385jvsc74a57bd0b4e8aad4771377d9f665d2bee3e56dcc73eb21e3cbbe68fc10b2d78319b5084c"
  },
  "language_info": {
   "codemirror_mode": {
    "name": "ipython",
    "version": 3
   },
   "file_extension": ".py",
   "mimetype": "text/x-python",
   "name": "python",
   "nbconvert_exporter": "python",
   "pygments_lexer": "ipython3",
   "version": "3.8.5"
  }
 },
 "nbformat": 4,
 "nbformat_minor": 5
}
